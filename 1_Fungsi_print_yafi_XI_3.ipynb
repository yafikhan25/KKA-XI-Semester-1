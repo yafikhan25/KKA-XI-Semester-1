{
  "nbformat": 4,
  "nbformat_minor": 0,
  "metadata": {
    "colab": {
      "provenance": [],
      "authorship_tag": "ABX9TyPQYDdW6rZPTsp0c2OVIlnx",
      "include_colab_link": true
    },
    "kernelspec": {
      "name": "python3",
      "display_name": "Python 3"
    },
    "language_info": {
      "name": "python"
    }
  },
  "cells": [
    {
      "cell_type": "markdown",
      "metadata": {
        "id": "view-in-github",
        "colab_type": "text"
      },
      "source": [
        "<a href=\"https://colab.research.google.com/github/yafikhan25/KKA-XI-Semester-1/blob/main/1_Fungsi_print_yafi_XI_3.ipynb\" target=\"_parent\"><img src=\"https://colab.research.google.com/assets/colab-badge.svg\" alt=\"Open In Colab\"/></a>"
      ]
    },
    {
      "cell_type": "markdown",
      "source": [
        "Nama:Yafi alifiankhan\n",
        "\n",
        "\n",
        "Kelas:XI-3\n",
        "\n",
        "\n",
        "No absen:32"
      ],
      "metadata": {
        "id": "1Jko4fVpUlHt"
      }
    },
    {
      "cell_type": "markdown",
      "source": [
        "#Menampilkan string teks bebas"
      ],
      "metadata": {
        "id": "F6mwe_b4VGvZ"
      }
    },
    {
      "cell_type": "code",
      "source": [
        "print(\"Yafi Alifiankhan\")"
      ],
      "metadata": {
        "colab": {
          "base_uri": "https://localhost:8080/"
        },
        "id": "BFZgdEgVWB9k",
        "outputId": "360eae5a-577a-4e62-d64a-85b40abdc665"
      },
      "execution_count": 31,
      "outputs": [
        {
          "output_type": "stream",
          "name": "stdout",
          "text": [
            "Yafi Alifiankhan\n"
          ]
        }
      ]
    },
    {
      "cell_type": "markdown",
      "source": [
        "#Menampilkan Nilai Variabel"
      ],
      "metadata": {
        "id": "rWHiul2CWLGO"
      }
    },
    {
      "cell_type": "code",
      "source": [
        "Nama = \"yafi alifiankhan\"\n",
        "Usia = 16\n",
        "Tinggi_badan = 171\n",
        "Berat_badan = 80\n",
        "\n",
        "\n",
        "print(Nama)\n",
        "print(Usia)\n",
        "print(Tinggi_badan)\n",
        "print(Berat_badan)"
      ],
      "metadata": {
        "colab": {
          "base_uri": "https://localhost:8080/"
        },
        "id": "FJEYWgRhWYuL",
        "outputId": "fc8c818c-8a95-4284-92d6-95f565b40d18"
      },
      "execution_count": null,
      "outputs": [
        {
          "output_type": "stream",
          "name": "stdout",
          "text": [
            "yafi alifiankhan\n",
            "16\n",
            "171\n",
            "80\n"
          ]
        }
      ]
    },
    {
      "cell_type": "markdown",
      "source": [
        "# menampilkan string dan nilai variabel"
      ],
      "metadata": {
        "id": "7MxaBd3TSu_T"
      }
    },
    {
      "cell_type": "code",
      "source": [
        "print(\"halo nama saya\", Nama, \"tinggi badan saya adalah\",Tinggi_badan,\"cm.\")"
      ],
      "metadata": {
        "id": "2X0rbnp6TKiG",
        "colab": {
          "base_uri": "https://localhost:8080/"
        },
        "outputId": "456ba7ee-d275-4ffc-d480-97c51e49829d"
      },
      "execution_count": null,
      "outputs": [
        {
          "output_type": "stream",
          "name": "stdout",
          "text": [
            "halo nama saya yafi alifiankhan tinggi badan saya adalah 171 cm.\n"
          ]
        }
      ]
    },
    {
      "cell_type": "code",
      "source": [
        "print(\"usia saya adalah\",Usia,\"tahun.\")"
      ],
      "metadata": {
        "colab": {
          "base_uri": "https://localhost:8080/"
        },
        "id": "Vto7WQALVGz9",
        "outputId": "6a82f0d9-6b08-4838-fa23-7f421b2e30b2"
      },
      "execution_count": null,
      "outputs": [
        {
          "output_type": "stream",
          "name": "stdout",
          "text": [
            "usia saya adalah 16 tahun.\n"
          ]
        }
      ]
    },
    {
      "cell_type": "markdown",
      "source": [
        "# latihan menampilkan berat badan"
      ],
      "metadata": {
        "id": "-2GOrBmPYJsq"
      }
    },
    {
      "cell_type": "code",
      "source": [
        "print(\"berat badan saya adalah\",Berat_badan,\"kg.\")"
      ],
      "metadata": {
        "colab": {
          "base_uri": "https://localhost:8080/"
        },
        "id": "KxZk9wcZXUGn",
        "outputId": "8b08a5c3-b5b0-41cd-ebcb-44c5bc81c3e0"
      },
      "execution_count": null,
      "outputs": [
        {
          "output_type": "stream",
          "name": "stdout",
          "text": [
            "berat badan saya adalah 80 kg.\n"
          ]
        }
      ]
    },
    {
      "cell_type": "code",
      "source": [
        "print(\"halo nama saya \"+Nama+\" tinggi badan saya adalah \"+ str(Tinggi_badan)+\"cm.\")"
      ],
      "metadata": {
        "colab": {
          "base_uri": "https://localhost:8080/"
        },
        "id": "K7uyuSNpaktq",
        "outputId": "62535f76-a229-4842-96ce-8862bad5473f"
      },
      "execution_count": null,
      "outputs": [
        {
          "output_type": "stream",
          "name": "stdout",
          "text": [
            "halo nama saya yafi alifiankhan tinggi badan saya adalah 171cm.\n"
          ]
        }
      ]
    },
    {
      "cell_type": "code",
      "source": [
        "print(f\"halo nama saya {Nama}, tinggi badan saya adalah {Tinggi_badan} cm.\")"
      ],
      "metadata": {
        "colab": {
          "base_uri": "https://localhost:8080/"
        },
        "id": "kNuQrcK1bLgD",
        "outputId": "c92eda9d-c816-4082-ae60-520fb1902fe2"
      },
      "execution_count": null,
      "outputs": [
        {
          "output_type": "stream",
          "name": "stdout",
          "text": [
            "halo nama saya yafi alifiankhan, tinggi badan saya adalah 171 cm.\n"
          ]
        }
      ]
    },
    {
      "cell_type": "markdown",
      "source": [
        "#Escape character"
      ],
      "metadata": {
        "id": "1wZENKGjVTUg"
      }
    },
    {
      "cell_type": "code",
      "source": [
        "print(\"Nama:yafi alifiankhan\\nKelas:XI.3\\nNo.absen:32\")"
      ],
      "metadata": {
        "colab": {
          "base_uri": "https://localhost:8080/"
        },
        "id": "jJlGYmZIVZEh",
        "outputId": "fefc38bc-aa48-4ff9-d671-6dbb9885e1db"
      },
      "execution_count": null,
      "outputs": [
        {
          "output_type": "stream",
          "name": "stdout",
          "text": [
            "Nama:yafi alifiankhan\n",
            "Kelas:XI.3\n",
            "No.absen:32\n"
          ]
        }
      ]
    },
    {
      "cell_type": "code",
      "source": [
        "print(\"\"\"Nama\\t\\t:yafi alifiankhan\n",
        "Kelas\\t\\t:XI.3\n",
        "No.absen\\t:32\"\"\")"
      ],
      "metadata": {
        "colab": {
          "base_uri": "https://localhost:8080/"
        },
        "id": "OJEgVS1cWl8h",
        "outputId": "63b812fd-78e0-41f8-8239-cc95f02784e9"
      },
      "execution_count": null,
      "outputs": [
        {
          "output_type": "stream",
          "name": "stdout",
          "text": [
            "Nama\t\t:yafi alifiankhan\n",
            "Kelas\t\t:XI.3\n",
            "No.absen\t:32\n"
          ]
        }
      ]
    },
    {
      "cell_type": "code",
      "source": [
        "print(\"Nama:yafi alifiankhan\")\n",
        "print(\"Kelas:XI.3\")\n",
        "print(\"No.absen:32\")"
      ],
      "metadata": {
        "colab": {
          "base_uri": "https://localhost:8080/"
        },
        "id": "IK7l0J8fXFts",
        "outputId": "550b6978-a045-4721-83cd-e024e2a48478"
      },
      "execution_count": null,
      "outputs": [
        {
          "output_type": "stream",
          "name": "stdout",
          "text": [
            "Nama:yafi alifiankhan\n",
            "Kelas:XI.3\n",
            "No.absen:32\n"
          ]
        }
      ]
    },
    {
      "cell_type": "code",
      "source": [
        "print(\"yafi alifiankhan\")"
      ],
      "metadata": {
        "colab": {
          "base_uri": "https://localhost:8080/"
        },
        "id": "UPJMPErabeNu",
        "outputId": "cf87c360-41fb-415f-c3e7-02158775809a"
      },
      "execution_count": null,
      "outputs": [
        {
          "output_type": "stream",
          "name": "stdout",
          "text": [
            "yafi alifiankhan\n"
          ]
        }
      ]
    },
    {
      "cell_type": "code",
      "source": [
        "print('yafi alifiankhan')"
      ],
      "metadata": {
        "colab": {
          "base_uri": "https://localhost:8080/"
        },
        "id": "MEoRY3RjbmUR",
        "outputId": "1d1f2038-0701-45d0-bb04-0c3d170f21f1"
      },
      "execution_count": null,
      "outputs": [
        {
          "output_type": "stream",
          "name": "stdout",
          "text": [
            "yafi alifiankhan\n"
          ]
        }
      ]
    },
    {
      "cell_type": "code",
      "source": [
        "print('habib ja\\'far')"
      ],
      "metadata": {
        "colab": {
          "base_uri": "https://localhost:8080/"
        },
        "id": "ukeU_1iNbtbg",
        "outputId": "21ee295f-b998-41c1-d08b-3faedd8b6f0c"
      },
      "execution_count": null,
      "outputs": [
        {
          "output_type": "stream",
          "name": "stdout",
          "text": [
            "habib ja'far\n"
          ]
        }
      ]
    },
    {
      "cell_type": "code",
      "source": [
        "print(\"Bu shinta berkata,\\\"Tolong fokus ke layar tv\\\".\")"
      ],
      "metadata": {
        "colab": {
          "base_uri": "https://localhost:8080/"
        },
        "id": "aTDdwpJqb2pQ",
        "outputId": "4ffd2070-fea1-485e-ec41-2f70057e56c7"
      },
      "execution_count": null,
      "outputs": [
        {
          "output_type": "stream",
          "name": "stdout",
          "text": [
            "Bu shinta berkata,\"Tolong fokus ke layar tv\".\n"
          ]
        }
      ]
    },
    {
      "cell_type": "code",
      "source": [
        "print(\"Lokasi file penyimpanan tugas KKA ada di local disk D:\\\\MAN Demak\\\\KKA\\\\Tugas\")"
      ],
      "metadata": {
        "colab": {
          "base_uri": "https://localhost:8080/"
        },
        "id": "pS7mEjCNcMNw",
        "outputId": "da40eeea-1824-4cf5-d755-30e95057f9c2"
      },
      "execution_count": null,
      "outputs": [
        {
          "output_type": "stream",
          "name": "stdout",
          "text": [
            "Lokasi file penyimpanan tugas KKA ada di local disk D:\\MAN Demak\\KKA\\Tugas\n"
          ]
        }
      ]
    },
    {
      "cell_type": "markdown",
      "source": [
        "#Parameter fungsi print"
      ],
      "metadata": {
        "id": "s3te-qzIXehf"
      }
    },
    {
      "cell_type": "code",
      "source": [
        "nama_siswa_1 = \"yafi\"\n",
        "nama_siswa_2 = \"wahyu\""
      ],
      "metadata": {
        "id": "G-Msds6xXjup"
      },
      "execution_count": null,
      "outputs": []
    },
    {
      "cell_type": "code",
      "source": [
        "print(nama_siswa_1, end=\"&\")\n",
        "print(nama_siswa_2)"
      ],
      "metadata": {
        "colab": {
          "base_uri": "https://localhost:8080/"
        },
        "id": "BGhbBMBsX3-Y",
        "outputId": "617662d8-55fa-4783-a9e5-b69670bcf1e3"
      },
      "execution_count": null,
      "outputs": [
        {
          "output_type": "stream",
          "name": "stdout",
          "text": [
            "yafi&wahyu\n"
          ]
        }
      ]
    },
    {
      "cell_type": "code",
      "source": [
        "print(nama_siswa_1, nama_siswa_2, sep=\"/\")"
      ],
      "metadata": {
        "colab": {
          "base_uri": "https://localhost:8080/"
        },
        "id": "rgC65JhcYZ-4",
        "outputId": "b4a578c6-1c54-433f-c8eb-46d88e0bf9a4"
      },
      "execution_count": null,
      "outputs": [
        {
          "output_type": "stream",
          "name": "stdout",
          "text": [
            "yafi/wahyu\n"
          ]
        }
      ]
    },
    {
      "cell_type": "markdown",
      "source": [
        "#Latihan soal"
      ],
      "metadata": {
        "id": "GlCkuwY8ZAxy"
      }
    },
    {
      "cell_type": "code",
      "source": [
        "nama_siswa_3 = \"dzakka\"\n",
        "nama_siswa_4 = \"haikal\"\n",
        "nama_siswa_5 = \"hilma\""
      ],
      "metadata": {
        "id": "0qY7eKBpZDLZ"
      },
      "execution_count": null,
      "outputs": []
    },
    {
      "cell_type": "code",
      "source": [
        "print(nama_siswa_5, end=\"*\")\n",
        "print(nama_siswa_4, end=\"*\")\n",
        "print(nama_siswa_3, end=\"*\")\n",
        "print(nama_siswa_5)"
      ],
      "metadata": {
        "colab": {
          "base_uri": "https://localhost:8080/"
        },
        "id": "AnkGaA-gZh-y",
        "outputId": "85e2478c-161d-40f5-ce5e-bccdaf584c8a"
      },
      "execution_count": null,
      "outputs": [
        {
          "output_type": "stream",
          "name": "stdout",
          "text": [
            "hilma*haikal*dzakka*hilma\n"
          ]
        }
      ]
    },
    {
      "cell_type": "code",
      "source": [
        "print(nama_siswa_4, nama_siswa_3, nama_siswa_5, nama_siswa_3, sep=\"-\")"
      ],
      "metadata": {
        "colab": {
          "base_uri": "https://localhost:8080/"
        },
        "id": "BnwSQ19paTTZ",
        "outputId": "10a71c51-de74-4c3f-f12a-e2e9a535e2ad"
      },
      "execution_count": null,
      "outputs": [
        {
          "output_type": "stream",
          "name": "stdout",
          "text": [
            "haikal-dzakka-hilma-dzakka\n"
          ]
        }
      ]
    }
  ]
}